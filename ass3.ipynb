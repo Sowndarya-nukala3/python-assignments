{
 "cells": [
  {
   "cell_type": "code",
   "execution_count": 1,
   "metadata": {},
   "outputs": [
    {
     "name": "stdin",
     "output_type": "stream",
     "text": [
      "Enter the radius of the circle :  4\n"
     ]
    },
    {
     "name": "stdout",
     "output_type": "stream",
     "text": [
      "Area of the circle is : 50.27\n"
     ]
    }
   ],
   "source": [
    "# write a python program to find area of a circle using math module\n",
    "import math\n",
    "r = float(input('Enter the radius of the circle : '))\n",
    "area = math.pi * r * r\n",
    "print(\"Area of the circle is : %.2f\" %area)"
   ]
  },
  {
   "cell_type": "code",
   "execution_count": 3,
   "metadata": {},
   "outputs": [
    {
     "name": "stdin",
     "output_type": "stream",
     "text": [
      "Input number of side :  3\n",
      "Input the length of a side :  4\n"
     ]
    },
    {
     "name": "stdout",
     "output_type": "stream",
     "text": [
      "The area of the polygon is:  6.928203230275511\n"
     ]
    }
   ],
   "source": [
    "# write a python program to find Area of Regular Polygon\n",
    "from math import tan, pi\n",
    "n_sides = int(input(\"Input number of side : \"))\n",
    "s_length = float(input(\"Input the length of a side : \"))\n",
    "p_area = n_sides * (s_length ** 2) / (4 * tan(pi / n_sides))\n",
    "print(\"The area of the polygon is: \",p_area)"
   ]
  },
  {
   "cell_type": "code",
   "execution_count": 6,
   "metadata": {},
   "outputs": [
    {
     "name": "stdout",
     "output_type": "stream",
     "text": [
      "Area of minor segment =  138.19129256478584\n",
      "Area of major segment =  568.666158905905\n"
     ]
    }
   ],
   "source": [
    "# write a python program to find Area of a Segment of a Circle Formulae using math module\n",
    "import math\n",
    "pi = 3.14159\n",
    "def area_of_segment(radius, angle):\n",
    "    area_of_sector = pi * (radius * radius) * (angle/ 360)\n",
    "    area_of_triangle = 1/2 * (radius * radius) * math.sin((angle * pi) / 180)\n",
    "    return area_of_sector - area_of_triangle;\n",
    "radius = 15.0\n",
    "angle = 120.0\n",
    "print(\"Area of minor segment = \", area_of_segment(radius, angle))\n",
    "print(\"Area of major segment = \", area_of_segment(radius, (360 - angle)))"
   ]
  },
  {
   "cell_type": "code",
   "execution_count": 7,
   "metadata": {},
   "outputs": [
    {
     "name": "stdout",
     "output_type": "stream",
     "text": [
      " list : [40, 2, 30, 1, 3, 100]\n",
      "shuffle list :  [30, 2, 100, 3, 40, 1]\n"
     ]
    }
   ],
   "source": [
    "# write a python program to generate random number from list |1=[100,1,2,3,30,40].\n",
    "import random\n",
    "list = [100,1,2,3,30,40];\n",
    "random.shuffle(list)\n",
    "print(\" list :\",list)\n",
    "random.shuffle(list)\n",
    "print(\"shuffle list : \",list)"
   ]
  },
  {
   "cell_type": "code",
   "execution_count": 8,
   "metadata": {},
   "outputs": [
    {
     "name": "stdout",
     "output_type": "stream",
     "text": [
      "random number:  5801\n"
     ]
    }
   ],
   "source": [
    "# write a python program to genarate random number between 1,10000 and difference between each random number is 50.\n",
    "import random\n",
    "num = random.randrange(1,10000,50)\n",
    "print(\"random number: \",num)"
   ]
  },
  {
   "cell_type": "code",
   "execution_count": 26,
   "metadata": {},
   "outputs": [
    {
     "data": {
      "text/plain": [
       "-0.3048106211022167"
      ]
     },
     "execution_count": 26,
     "metadata": {},
     "output_type": "execute_result"
    }
   ],
   "source": [
    "# write a python program by using math module to find\n",
    "#(i) sin 60 degrees\n",
    "import math\n",
    "math.sin(60)"
   ]
  },
  {
   "cell_type": "code",
   "execution_count": 10,
   "metadata": {},
   "outputs": [
    {
     "name": "stdout",
     "output_type": "stream",
     "text": [
      "cos(math.pi) :  -1.0\n"
     ]
    }
   ],
   "source": [
    "#(ii) cos pi\n",
    "import math\n",
    "print(\"cos(math.pi) : \", math.cos(math.pi))"
   ]
  },
  {
   "cell_type": "code",
   "execution_count": 19,
   "metadata": {},
   "outputs": [
    {
     "data": {
      "text/plain": [
       "-1.995200412208242"
      ]
     },
     "execution_count": 19,
     "metadata": {},
     "output_type": "execute_result"
    }
   ],
   "source": [
    "#(iii) tan 90 degrees\n",
    "import math\n",
    "math.tan(90)"
   ]
  },
  {
   "cell_type": "code",
   "execution_count": 33,
   "metadata": {},
   "outputs": [
    {
     "name": "stdout",
     "output_type": "stream",
     "text": [
      "0.8660254037844386\n"
     ]
    }
   ],
   "source": [
    "#(vi) angle of sin(0.8660254037844386)\n",
    "import math\n",
    "print(math.sin(math.pi/3))"
   ]
  },
  {
   "cell_type": "code",
   "execution_count": 34,
   "metadata": {},
   "outputs": [
    {
     "name": "stdout",
     "output_type": "stream",
     "text": [
      "13\n"
     ]
    }
   ],
   "source": [
    "#(v) 5^8\n",
    "import math\n",
    "a=5^8\n",
    "print(a)"
   ]
  },
  {
   "cell_type": "code",
   "execution_count": 35,
   "metadata": {},
   "outputs": [
    {
     "data": {
      "text/plain": [
       "20.0"
      ]
     },
     "execution_count": 35,
     "metadata": {},
     "output_type": "execute_result"
    }
   ],
   "source": [
    "#(vi) square root of 400\n",
    "math.sqrt(400)"
   ]
  },
  {
   "cell_type": "code",
   "execution_count": 36,
   "metadata": {},
   "outputs": [
    {
     "name": "stdout",
     "output_type": "stream",
     "text": [
      "148.41315910257657\n"
     ]
    }
   ],
   "source": [
    "#(vii) The value of 5^e\n",
    "import math\n",
    "x=5\n",
    "b=math.e**x\n",
    "print(b)"
   ]
  },
  {
   "cell_type": "code",
   "execution_count": 37,
   "metadata": {},
   "outputs": [
    {
     "name": "stdout",
     "output_type": "stream",
     "text": [
      "Logarithm base 2 of 1024 is:  10.0\n"
     ]
    }
   ],
   "source": [
    "#(viii) The value of log(1024),base 2\n",
    "import math\n",
    "print (\"Logarithm base 2 of 1024 is: \", end=\" \")\n",
    "print (math.log2(1024))"
   ]
  },
  {
   "cell_type": "code",
   "execution_count": 38,
   "metadata": {},
   "outputs": [
    {
     "name": "stdout",
     "output_type": "stream",
     "text": [
      "Logarithm base 10 of 1024 is :  3.010299956639812\n"
     ]
    }
   ],
   "source": [
    "#(ix) The value of log(1024),base 10\n",
    "import math\n",
    "print (\"Logarithm base 10 of 1024 is : \",end=\" \")\n",
    "print(math.log10(1024))"
   ]
  },
  {
   "cell_type": "code",
   "execution_count": 39,
   "metadata": {},
   "outputs": [
    {
     "name": "stdout",
     "output_type": "stream",
     "text": [
      "math.floor(23.56) :  23\n",
      "math.ceil(23.56) :  24\n"
     ]
    }
   ],
   "source": [
    "#(x) The floor and ceiling value of 23.56\n",
    "import math\n",
    "print(\"math.floor(23.56) : \",math.floor(23.56))\n",
    "print(\"math.ceil(23.56) : \",math.ceil(23.56))"
   ]
  },
  {
   "cell_type": "code",
   "execution_count": null,
   "metadata": {},
   "outputs": [],
   "source": []
  }
 ],
 "metadata": {
  "kernelspec": {
   "display_name": "Python 3",
   "language": "python",
   "name": "python3"
  },
  "language_info": {
   "codemirror_mode": {
    "name": "ipython",
    "version": 3
   },
   "file_extension": ".py",
   "mimetype": "text/x-python",
   "name": "python",
   "nbconvert_exporter": "python",
   "pygments_lexer": "ipython3",
   "version": "3.7.6"
  }
 },
 "nbformat": 4,
 "nbformat_minor": 4
}
