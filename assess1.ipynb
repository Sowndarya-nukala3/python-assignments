{
 "cells": [
  {
   "cell_type": "code",
   "execution_count": 1,
   "metadata": {},
   "outputs": [
    {
     "name": "stdout",
     "output_type": "stream",
     "text": [
      "7\n",
      "3\n",
      "10\n",
      "2.5\n",
      "1\n",
      "25\n",
      "2\n"
     ]
    }
   ],
   "source": [
    "# program to design simple calculate for operators\n",
    "a=5\n",
    "b=2\n",
    "print(a+b)\n",
    "print(a-b)\n",
    "print(a*b)\n",
    "print(a/b)\n",
    "print(a%b)\n",
    "print(a**b)\n",
    "print(a//b)"
   ]
  },
  {
   "cell_type": "code",
   "execution_count": 2,
   "metadata": {},
   "outputs": [
    {
     "name": "stdout",
     "output_type": "stream",
     "text": [
      "simple interest is:  20.0\n"
     ]
    }
   ],
   "source": [
    "# program to calculate simple interest\n",
    "P=1000\n",
    "R=1\n",
    "T=2\n",
    "SI=(P*R*T)/100\n",
    "print(\"simple interest is: \",SI)"
   ]
  },
  {
   "cell_type": "code",
   "execution_count": 5,
   "metadata": {},
   "outputs": [
    {
     "name": "stdin",
     "output_type": "stream",
     "text": [
      "Enter the radius of the circle:  2\n"
     ]
    },
    {
     "name": "stdout",
     "output_type": "stream",
     "text": [
      "12.56\n"
     ]
    }
   ],
   "source": [
    "# program to calculate area of a circle\n",
    "PI=3.14\n",
    "r=float(input(\"Enter the radius of the circle: \"))\n",
    "area=PI * r * r\n",
    "print(\"%.2f\" %area)"
   ]
  },
  {
   "cell_type": "code",
   "execution_count": 6,
   "metadata": {},
   "outputs": [
    {
     "name": "stdout",
     "output_type": "stream",
     "text": [
      "area of the triangle 11.61895003862225\n"
     ]
    }
   ],
   "source": [
    "# program to calculate area of the triangle\n",
    "import math\n",
    "a=8\n",
    "b=4\n",
    "c=6\n",
    "s=(a+b+c)/2\n",
    "area=math.sqrt(s*(s-a)*(s-b)*(s-c))\n",
    "print(\"area of the triangle\",area)"
   ]
  },
  {
   "cell_type": "code",
   "execution_count": 7,
   "metadata": {},
   "outputs": [
    {
     "name": "stdout",
     "output_type": "stream",
     "text": [
      "37.5 degree celsius is equal to 99.5 degree Fahrenheit\n"
     ]
    }
   ],
   "source": [
    "# program to calculate temperature in celsius to fahrenheit\n",
    "celsius=37.5\n",
    "fahrenheit = (celsius * 1.8)+32\n",
    "print('%0.1f degree celsius is equal to %0.1f degree Fahrenheit'%(celsius,fahrenheit))"
   ]
  },
  {
   "cell_type": "code",
   "execution_count": 9,
   "metadata": {},
   "outputs": [
    {
     "name": "stdin",
     "output_type": "stream",
     "text": [
      "enter the width of a rectangle:  4\n",
      "enter the height of a rectangle:  5\n"
     ]
    },
    {
     "name": "stdout",
     "output_type": "stream",
     "text": [
      "\n",
      " Area of a reactangle is :20.00\n",
      "\n",
      " perimeter of a square is:18\n"
     ]
    }
   ],
   "source": [
    "# program to calculate area of a rectangle\n",
    "width=float(input('enter the width of a rectangle: '))\n",
    "height=float(input('enter the height of a rectangle: '))\n",
    "Area=width*height\n",
    "Perimeter=2*(width+height)\n",
    "print(\"\\n Area of a reactangle is :%.2f\"%Area)\n",
    "print(\"\\n perimeter of a square is:%2.f\"%Perimeter)"
   ]
  },
  {
   "cell_type": "code",
   "execution_count": 10,
   "metadata": {},
   "outputs": [
    {
     "name": "stdin",
     "output_type": "stream",
     "text": [
      "side: 4\n"
     ]
    },
    {
     "name": "stdout",
     "output_type": "stream",
     "text": [
      "perimeter of a square:  16\n"
     ]
    }
   ],
   "source": [
    "# program to calculate perimeter of a square\n",
    "s=int(input(\"side:\"))\n",
    "perimeter=4*s\n",
    "print(\"perimeter of a square: \",perimeter)"
   ]
  },
  {
   "cell_type": "code",
   "execution_count": 11,
   "metadata": {},
   "outputs": [
    {
     "name": "stdin",
     "output_type": "stream",
     "text": [
      "enter the radius of a circle:  4\n"
     ]
    },
    {
     "name": "stdout",
     "output_type": "stream",
     "text": [
      " circumference of a circle= 25.12\n"
     ]
    }
   ],
   "source": [
    "# program to calculate the circumference of a circle\n",
    "PI = 3.14\n",
    "radius=float(input('enter the radius of a circle: '))\n",
    "circumference= 2 * PI * radius\n",
    "print(\" circumference of a circle= %.2f\"%circumference)"
   ]
  },
  {
   "cell_type": "code",
   "execution_count": null,
   "metadata": {},
   "outputs": [],
   "source": [
    "# program to swap two numbers\n",
    "a=15\n",
    "b=12\n",
    "print(\"\\nBefore swaping a=%d and b=%d\" %(a,d))\n",
    "a , b = b , a\n",
    "print(\"\\nAfter swaping a=%d and b=%d\" %(a))"
   ]
  }
 ],
 "metadata": {
  "kernelspec": {
   "display_name": "Python 3",
   "language": "python",
   "name": "python3"
  },
  "language_info": {
   "codemirror_mode": {
    "name": "ipython",
    "version": 3
   },
   "file_extension": ".py",
   "mimetype": "text/x-python",
   "name": "python",
   "nbconvert_exporter": "python",
   "pygments_lexer": "ipython3",
   "version": "3.7.6"
  }
 },
 "nbformat": 4,
 "nbformat_minor": 4
}
