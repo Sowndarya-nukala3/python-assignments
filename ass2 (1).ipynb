{
 "cells": [
  {
   "cell_type": "code",
   "execution_count": 1,
   "metadata": {},
   "outputs": [
    {
     "name": "stdin",
     "output_type": "stream",
     "text": [
      "enter Age: 19\n"
     ]
    },
    {
     "name": "stdout",
     "output_type": "stream",
     "text": [
      "you are  Eligible  for vote.\n"
     ]
    }
   ],
   "source": [
    "# write a python program in python to check whether a person is eligible for voting or not using if-else\n",
    "age=int(input(\"enter Age:\"))\n",
    "if age>=18:\n",
    "    status=\"Eligible\"\n",
    "else:\n",
    "    status=\"Not Eligible\"\n",
    "print(\"you are \",status,\" for vote.\")    "
   ]
  },
  {
   "cell_type": "code",
   "execution_count": 2,
   "metadata": {},
   "outputs": [
    {
     "name": "stdin",
     "output_type": "stream",
     "text": [
      "enetr a number :  40\n"
     ]
    },
    {
     "name": "stdout",
     "output_type": "stream",
     "text": [
      "This number is Even\n"
     ]
    }
   ],
   "source": [
    "#write a  python program to check whether a number is even or odd using if-else\n",
    "a=int(input(\"enetr a number : \"))\n",
    "if(a%2==0):\n",
    "    print(\"This number is Even\")\n",
    "else:\n",
    "    print(\"This number is Odd\")\n"
   ]
  },
  {
   "cell_type": "code",
   "execution_count": 5,
   "metadata": {},
   "outputs": [
    {
     "name": "stdout",
     "output_type": "stream",
     "text": [
      "uoy teem ot dalg mI\n"
     ]
    }
   ],
   "source": [
    "#write a python program to print the string in reverse order by using string indexing\n",
    "txt=\"Im glad to meet you\"[::-1]\n",
    "print(txt)"
   ]
  },
  {
   "cell_type": "code",
   "execution_count": 6,
   "metadata": {},
   "outputs": [
    {
     "name": "stdin",
     "output_type": "stream",
     "text": [
      "Enter number :  -3\n"
     ]
    },
    {
     "name": "stdout",
     "output_type": "stream",
     "text": [
      "Number is not positive\n"
     ]
    }
   ],
   "source": [
    "#write a python program to check whether a number is positive or not using if-else\n",
    "n=int(input(\"Enter number : \"))\n",
    "if(n>0):\n",
    "    print(\"Number is positive\")\n",
    "else:\n",
    "    print(\"Number is not positive\")"
   ]
  },
  {
   "cell_type": "code",
   "execution_count": 7,
   "metadata": {},
   "outputs": [
    {
     "name": "stdout",
     "output_type": "stream",
     "text": [
      "Quadratic fuction : (a * x^2) + b*x + c\n"
     ]
    },
    {
     "name": "stdin",
     "output_type": "stream",
     "text": [
      "a:  6\n",
      "b:  18\n",
      "c:  12\n"
     ]
    },
    {
     "name": "stdout",
     "output_type": "stream",
     "text": [
      "There are 2 roots: -1.000000 and -2.000000\n"
     ]
    }
   ],
   "source": [
    "#write a python program to find the roots of a quadratic equation using elif\n",
    "from math import sqrt\n",
    "print(\"Quadratic fuction : (a * x^2) + b*x + c\")\n",
    "a=float(input(\"a: \"))\n",
    "b=float(input(\"b: \"))\n",
    "c=float(input(\"c: \"))\n",
    "r= (b**2) - 4*a*c\n",
    "if r>0:\n",
    "    num_roots= 2\n",
    "    x1=(((-b) + sqrt(r))/(2*a))\n",
    "    x2=(((-b) - sqrt(r))/(2*a))\n",
    "    print(\"There are 2 roots: %f and %f\" % (x1,x2))\n",
    "elif r==0:\n",
    "    num_roots= 1\n",
    "    x= (-b) / 2*a\n",
    "    print(\"There is one root: \",x)\n",
    "else:\n",
    "    num_roots=0\n",
    "    print(\"No roots, discriminant < 0\")\n",
    "exit()    \n"
   ]
  },
  {
   "cell_type": "code",
   "execution_count": 1,
   "metadata": {},
   "outputs": [
    {
     "name": "stdin",
     "output_type": "stream",
     "text": [
      "Enter a number -8\n"
     ]
    },
    {
     "name": "stdout",
     "output_type": "stream",
     "text": [
      "Negative number\n"
     ]
    }
   ],
   "source": [
    "#write a python program using nested-if to check whether a number is positive or negative or zero\n",
    "num = float(input(\"Enter a number\"))\n",
    "if num >=0:\n",
    "    if num == 0:\n",
    "        print(\"Zero\")\n",
    "    else:\n",
    "        print(\"Positive number\")\n",
    "else:\n",
    "    print(\"Negative number\")\n",
    "    "
   ]
  },
  {
   "cell_type": "code",
   "execution_count": 3,
   "metadata": {},
   "outputs": [
    {
     "name": "stdin",
     "output_type": "stream",
     "text": [
      "enter any digit:  3\n"
     ]
    },
    {
     "name": "stdout",
     "output_type": "stream",
     "text": [
      "three\n"
     ]
    }
   ],
   "source": [
    "#write a python program to accept a number (1-5) and print the given number in words\n",
    "n=int(input(\"enter any digit: \"))\n",
    "if n==1:\n",
    "    print('one')\n",
    "elif n==2:\n",
    "    print('two')\n",
    "elif n==3:\n",
    "    print('three')\n",
    "elif n==4:\n",
    "    print('four')\n",
    "elif n==5:\n",
    "    print('five')\n",
    "else:\n",
    "    print(\"please enter a digit from(1-5)\")"
   ]
  },
  {
   "cell_type": "code",
   "execution_count": 2,
   "metadata": {},
   "outputs": [
    {
     "name": "stdin",
     "output_type": "stream",
     "text": [
      "Enter a character:  s\n"
     ]
    },
    {
     "name": "stdout",
     "output_type": "stream",
     "text": [
      "s is a consonent\n"
     ]
    }
   ],
   "source": [
    "#write a python program to read a character and print the given character is vowel or consonent\n",
    "ch = input(\"Enter a character: \")\n",
    "if(ch=='A' or ch=='a' or ch=='E' or ch=='e' or ch=='I' or ch=='i' or ch=='O' or ch=='o' or ch=='U' or ch=='u'):\n",
    "    print(ch, \"is a vowel\")\n",
    "else:\n",
    "    print(ch, \"is a consonent\")"
   ]
  }
 ],
 "metadata": {
  "kernelspec": {
   "display_name": "Python 3",
   "language": "python",
   "name": "python3"
  },
  "language_info": {
   "codemirror_mode": {
    "name": "ipython",
    "version": 3
   },
   "file_extension": ".py",
   "mimetype": "text/x-python",
   "name": "python",
   "nbconvert_exporter": "python",
   "pygments_lexer": "ipython3",
   "version": "3.7.6"
  }
 },
 "nbformat": 4,
 "nbformat_minor": 4
}
