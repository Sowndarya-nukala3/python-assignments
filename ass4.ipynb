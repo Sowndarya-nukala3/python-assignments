{
 "cells": [
  {
   "cell_type": "code",
   "execution_count": 2,
   "metadata": {},
   "outputs": [
    {
     "name": "stdout",
     "output_type": "stream",
     "text": [
      "2 9\n"
     ]
    }
   ],
   "source": [
    "# Function that returns first and last digit of a number.\n",
    "def firstDigit(n) :\n",
    "    while n >= 10:\n",
    "        n = n / 10;\n",
    "    return int(n)\n",
    "def lastDigit(n) :\n",
    "    return (n % 10)\n",
    "n = 26589;\n",
    "print(firstDigit(n), end = \" \")\n",
    "print(lastDigit(n))"
   ]
  },
  {
   "cell_type": "code",
   "execution_count": 3,
   "metadata": {},
   "outputs": [
    {
     "name": "stdin",
     "output_type": "stream",
     "text": [
      "No.of terms:  4\n"
     ]
    },
    {
     "name": "stdout",
     "output_type": "stream",
     "text": [
      "Fibonacci sequence: \n",
      "0\n",
      "1\n",
      "1\n",
      "2\n"
     ]
    }
   ],
   "source": [
    "# Generate first N numberof Fibonacci numbers. Take N value from user.\n",
    "N_terms = int(input(\"No.of terms: \"))\n",
    "n1 , n2 = 0, 1\n",
    "count = 0\n",
    "if N_terms <= 0:\n",
    "    print(\"Please enter a positive integer\")\n",
    "elif N_terms == 1:\n",
    "    print(\"Fibonacci sequence upto\",N_terms,\":\")\n",
    "    print(n1)\n",
    "else:\n",
    "    print(\"Fibonacci sequence: \") \n",
    "    while count < N_terms:\n",
    "        print(n1)\n",
    "        nth = n1 + n2\n",
    "        n1 = n2\n",
    "        n2 = nth\n",
    "        count +=1"
   ]
  },
  {
   "cell_type": "code",
   "execution_count": 4,
   "metadata": {},
   "outputs": [
    {
     "name": "stdout",
     "output_type": "stream",
     "text": [
      "4 x 1 = 4\n",
      "4 x 2 = 8\n",
      "4 x 3 = 12\n",
      "4 x 4 = 16\n",
      "4 x 5 = 20\n",
      "4 x 6 = 24\n",
      "4 x 7 = 28\n",
      "4 x 8 = 32\n",
      "4 x 9 = 36\n",
      "4 x 10 = 40\n"
     ]
    }
   ],
   "source": [
    "#Display multiplication table of k. Table k value from user\n",
    "#ex: 7*1=7\n",
    "#    7*2=14....\n",
    "k = 4\n",
    "for i in range(1,11):\n",
    "    print(k, 'x' , i, '=' , k*i)"
   ]
  },
  {
   "cell_type": "code",
   "execution_count": 10,
   "metadata": {},
   "outputs": [
    {
     "name": "stdin",
     "output_type": "stream",
     "text": [
      "enter the first value:  3\n",
      "enter the second value  -1\n"
     ]
    },
    {
     "name": "stdout",
     "output_type": "stream",
     "text": [
      "product is -3\n",
      "average is 2\n"
     ]
    }
   ],
   "source": [
    "#Take numbers from user until the number is -1 and display the product and average of all numbers.\n",
    "a = int(input(\"enter the first value: \"))\n",
    "b = int(input(\"enter the second value \"))\n",
    "product = a * b\n",
    "average = ( a + b)\n",
    "print('product is {}'.format(product))\n",
    "print('average is {}'.format(average))"
   ]
  },
  {
   "cell_type": "code",
   "execution_count": null,
   "metadata": {},
   "outputs": [],
   "source": []
  }
 ],
 "metadata": {
  "kernelspec": {
   "display_name": "Python 3",
   "language": "python",
   "name": "python3"
  },
  "language_info": {
   "codemirror_mode": {
    "name": "ipython",
    "version": 3
   },
   "file_extension": ".py",
   "mimetype": "text/x-python",
   "name": "python",
   "nbconvert_exporter": "python",
   "pygments_lexer": "ipython3",
   "version": "3.7.6"
  }
 },
 "nbformat": 4,
 "nbformat_minor": 4
}
