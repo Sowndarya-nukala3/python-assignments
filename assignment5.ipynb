{
 "cells": [
  {
   "cell_type": "code",
   "execution_count": 1,
   "metadata": {},
   "outputs": [
    {
     "name": "stdout",
     "output_type": "stream",
     "text": [
      "25\n"
     ]
    }
   ],
   "source": [
    "# Write a python program to calculate the length of a string.\n",
    "str = \"im waiting for your reply\"\n",
    "print(len(str))"
   ]
  },
  {
   "cell_type": "code",
   "execution_count": 2,
   "metadata": {},
   "outputs": [
    {
     "name": "stdout",
     "output_type": "stream",
     "text": [
      "{'m': 3, 'y': 1, 'd': 1, 'e': 1, 'o': 2, '.': 1, 'c': 1}\n"
     ]
    }
   ],
   "source": [
    "# write a python program to count the number of character(character frequency) in a string.\n",
    "def char_frequency(str1):\n",
    "    dict = {}\n",
    "    for n in str1:\n",
    "        keys = dict.keys()\n",
    "        if n in keys:\n",
    "            dict[n] += 1\n",
    "        else:\n",
    "            dict[n] = 1\n",
    "    return dict \n",
    "print(char_frequency('mydemo.com'))               "
   ]
  },
  {
   "cell_type": "code",
   "execution_count": 3,
   "metadata": {},
   "outputs": [
    {
     "name": "stdout",
     "output_type": "stream",
     "text": [
      "chna nach\n"
     ]
    }
   ],
   "source": [
    "# Write a python program to get a single string from two given strings seperated by a space and swap the first two characters of each string.\n",
    "def chars_mis_up(a,b):\n",
    "    new_a = b[:2] + a[:2]\n",
    "    new_b = a[:2] + b[:2]\n",
    "    return new_a + ' ' + new_b\n",
    "print(chars_mis_up('nani', 'chinni'))"
   ]
  },
  {
   "cell_type": "code",
   "execution_count": 1,
   "metadata": {},
   "outputs": [
    {
     "name": "stdin",
     "output_type": "stream",
     "text": [
      "What's your favourite language?  math\n"
     ]
    },
    {
     "name": "stdout",
     "output_type": "stream",
     "text": [
      "My favourite language is  MATH\n",
      "My favourite language is  math\n"
     ]
    }
   ],
   "source": [
    "# write a python script that takes input from the user and displays that input back in upper and lower cases.\n",
    "user_input = input(\"What's your favourite language? \")\n",
    "print(\"My favourite language is \", user_input.upper())\n",
    "print(\"My favourite language is \", user_input.lower())"
   ]
  },
  {
   "cell_type": "code",
   "execution_count": 2,
   "metadata": {},
   "outputs": [
    {
     "name": "stdout",
     "output_type": "stream",
     "text": [
      "python\n",
      "\n",
      "python\n"
     ]
    }
   ],
   "source": [
    "# Write a python program to remove a newline in python.\n",
    "str1='python\\n'\n",
    "print(str1)\n",
    "print(str1.rstrip())"
   ]
  },
  {
   "cell_type": "code",
   "execution_count": 4,
   "metadata": {},
   "outputs": [
    {
     "name": "stdout",
     "output_type": "stream",
     "text": [
      "He is damn rock hearted soul\n",
      "2\n"
     ]
    }
   ],
   "source": [
    "# Write a python program to count occurances of a substring in a string.\n",
    "str1 = \"He is damn rock hearted soul\"\n",
    "print(str1)\n",
    "print(str1.count('a'))"
   ]
  },
  {
   "cell_type": "code",
   "execution_count": 5,
   "metadata": {},
   "outputs": [
    {
     "name": "stdout",
     "output_type": "stream",
     "text": [
      "['Im', 'just', 'kidding', '!']\n"
     ]
    }
   ],
   "source": [
    "# Write a python program to convert a string in a list\n",
    "def convert(string):\n",
    "    li = list(string.split(\" \"))\n",
    "    return li\n",
    "str1 = \"Im just kidding !\"\n",
    "print(convert(str1))"
   ]
  },
  {
   "cell_type": "code",
   "execution_count": 6,
   "metadata": {},
   "outputs": [
    {
     "name": "stdout",
     "output_type": "stream",
     "text": [
      "python asignment\n"
     ]
    }
   ],
   "source": [
    "# Write a python progarm to perform deletion of a character\n",
    "def remove(string, i):\n",
    "    a = string[ : i]\n",
    "    b = string[i + 1: ]\n",
    "    return a + b\n",
    "if __name__ == '__main__':\n",
    "    string = \"python assignment\"\n",
    "    i = 9\n",
    "    print(remove(string, i))"
   ]
  },
  {
   "cell_type": "code",
   "execution_count": 7,
   "metadata": {},
   "outputs": [
    {
     "name": "stdout",
     "output_type": "stream",
     "text": [
      "1 : G\n",
      "2 : o\n",
      "3 : o\n",
      "4 : d\n",
      "5 :  \n",
      "6 : M\n",
      "7 : o\n",
      "8 : r\n",
      "9 : n\n",
      "10 : i\n",
      "11 : n\n",
      "12 : g\n"
     ]
    }
   ],
   "source": [
    "# Write a python program to print every character of a string enetered by user in a new line using loop.\n",
    "word='Good Morning'\n",
    "for index,letter in enumerate(word,1):\n",
    "    print(index,\":\",letter)"
   ]
  },
  {
   "cell_type": "code",
   "execution_count": 1,
   "metadata": {},
   "outputs": [
    {
     "ename": "NameError",
     "evalue": "name 'raw_input' is not defined",
     "output_type": "error",
     "traceback": [
      "\u001b[0;31m---------------------------------------------------------------------------\u001b[0m",
      "\u001b[0;31mNameError\u001b[0m                                 Traceback (most recent call last)",
      "\u001b[0;32m<ipython-input-1-a322fa760386>\u001b[0m in \u001b[0;36m<module>\u001b[0;34m\u001b[0m\n\u001b[1;32m      1\u001b[0m \u001b[0;31m# write a python program to find the length of a string \"refrigerator\" without using len fuction.\u001b[0m\u001b[0;34m\u001b[0m\u001b[0;34m\u001b[0m\u001b[0;34m\u001b[0m\u001b[0m\n\u001b[0;32m----> 2\u001b[0;31m \u001b[0mstring\u001b[0m \u001b[0;34m=\u001b[0m \u001b[0mraw_input\u001b[0m\u001b[0;34m(\u001b[0m\u001b[0;34m\"Enter string:\"\u001b[0m\u001b[0;34m)\u001b[0m\u001b[0;34m\u001b[0m\u001b[0;34m\u001b[0m\u001b[0m\n\u001b[0m\u001b[1;32m      3\u001b[0m \u001b[0mcount\u001b[0m\u001b[0;34m=\u001b[0m\u001b[0;36m0\u001b[0m\u001b[0;34m\u001b[0m\u001b[0;34m\u001b[0m\u001b[0m\n\u001b[1;32m      4\u001b[0m \u001b[0;32mfor\u001b[0m \u001b[0mi\u001b[0m \u001b[0;32min\u001b[0m \u001b[0mstring\u001b[0m\u001b[0;34m:\u001b[0m\u001b[0;34m\u001b[0m\u001b[0;34m\u001b[0m\u001b[0m\n\u001b[1;32m      5\u001b[0m     \u001b[0mcount\u001b[0m\u001b[0;34m=\u001b[0m\u001b[0mcount\u001b[0m\u001b[0;34m+\u001b[0m\u001b[0;36m1\u001b[0m\u001b[0;34m\u001b[0m\u001b[0;34m\u001b[0m\u001b[0m\n",
      "\u001b[0;31mNameError\u001b[0m: name 'raw_input' is not defined"
     ]
    }
   ],
   "source": [
    "# write a python program to find the length of a string \"refrigerator\" without using len fuction.\n",
    "def string_length"
   ]
  },
  {
   "cell_type": "code",
   "execution_count": null,
   "metadata": {},
   "outputs": [],
   "source": []
  }
 ],
 "metadata": {
  "kernelspec": {
   "display_name": "Python 3",
   "language": "python",
   "name": "python3"
  },
  "language_info": {
   "codemirror_mode": {
    "name": "ipython",
    "version": 3
   },
   "file_extension": ".py",
   "mimetype": "text/x-python",
   "name": "python",
   "nbconvert_exporter": "python",
   "pygments_lexer": "ipython3",
   "version": "3.7.6"
  }
 },
 "nbformat": 4,
 "nbformat_minor": 4
}
